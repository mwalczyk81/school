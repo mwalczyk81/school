{
 "cells": [
  {
   "cell_type": "markdown",
   "metadata": {},
   "source": [
    "<div align=\"center\">\n",
    "\n",
    "# Assignment 2\n",
    "\n",
    "---\n",
    "\n",
    "**Author:** Matthew Walczyk  \n",
    "**Date:** 9/3/2024  \n",
    "**Modified By:** Matthew Walczyk  \n",
    "\n",
    "---\n",
    "\n",
    "## Description\n",
    "This program contains my week 2 exercises using numpy, sklearn, pandas, and matplotlib.\n",
    "</div>"
   ]
  },
  {
   "cell_type": "code",
   "execution_count": 2,
   "metadata": {},
   "outputs": [],
   "source": [
    "# Keeping all my imports in one place\n",
    "import numpy as np\n",
    "from sklearn.datasets import load_iris\n",
    "from sklearn.datasets import fetch_california_housing\n",
    "import pandas as pd\n",
    "import matplotlib.pyplot as plt\n",
    "\n",
    "# I found this neat way of having the notebook output all variables instead of the last one from https://www.dataquest.io/blog/jupyter-notebook-tips-tricks-shortcuts/\n",
    "from IPython.core.interactiveshell import InteractiveShell\n",
    "InteractiveShell.ast_node_interactivity = \"all\""
   ]
  },
  {
   "cell_type": "code",
   "execution_count": 10,
   "metadata": {},
   "outputs": [
    {
     "data": {
      "text/plain": [
       "[0, 1, 4]"
      ]
     },
     "execution_count": 10,
     "metadata": {},
     "output_type": "execute_result"
    },
    {
     "data": {
      "text/plain": [
       "[0, 1, 8]"
      ]
     },
     "execution_count": 10,
     "metadata": {},
     "output_type": "execute_result"
    }
   ],
   "source": [
    "# Using Python for vectors of a number passed in\n",
    "def python_vectors(number):\n",
    "    squares = list(range(number))\n",
    "    cubes = list(range(number))\n",
    "\n",
    "    # Loop through the numbers starting with 0 until the number passed in \n",
    "    for i in range(len(squares)):\n",
    "       squares[i] = i ** 2\n",
    "       cubes[i] = i ** 3\n",
    "\n",
    "    return squares, cubes\n",
    "\n",
    "# Testing using the number from the question\n",
    "a, b = python_vectors(3)\n",
    "print(f\"Squares: {a}\")\n",
    "print(f\"Cubes: {b}\")"
   ]
  },
  {
   "cell_type": "code",
   "execution_count": 5,
   "metadata": {},
   "outputs": [
    {
     "name": "stdout",
     "output_type": "stream",
     "text": [
      "Squares: [0 1 4]\n",
      "Cubes: [0 1 8]\n"
     ]
    }
   ],
   "source": [
    "# numpy version of the function above\n",
    "def numpy_vectors(n):\n",
    "    x = np.arange(n)  # Slight optimization from the example in the repo. This makes it so you don\"t have to run arrange twice....side note it bothers me that arrange is misspelled :)\n",
    "    a = x ** 2 \n",
    "    b = x ** 3 \n",
    "\n",
    "    return a, b\n",
    "\n",
    "# Testing using the number from the question\n",
    "a, b = numpy_vectors(3)\n",
    "print(f\"Squares: {a}\")\n",
    "print(f\"Cubes: {b}\")"
   ]
  },
  {
   "cell_type": "code",
   "execution_count": 6,
   "metadata": {},
   "outputs": [
    {
     "name": "stdout",
     "output_type": "stream",
     "text": [
      "Iris Dataset Description: .. _iris_dataset:\n",
      "\n",
      "Iris plants dataset\n",
      "--------------------\n",
      "\n",
      "**Data Set Characteristics:**\n",
      "\n",
      ":Number of Instances: 150 (50 in each of three classes)\n",
      ":Number of Attributes: 4 numeric, predictive attributes and the class\n",
      ":Attribute Information:\n",
      "    - sepal length in cm\n",
      "    - sepal width in cm\n",
      "    - petal length in cm\n",
      "    - petal width in cm\n",
      "    - class:\n",
      "            - Iris-Setosa\n",
      "            - Iris-Versicolour\n",
      "            - Iris-Virginica\n",
      "\n",
      ":Summary Statistics:\n",
      "\n",
      "============== ==== ==== ======= ===== ====================\n",
      "                Min  Max   Mean    SD   Class Correlation\n",
      "============== ==== ==== ======= ===== ====================\n",
      "sepal length:   4.3  7.9   5.84   0.83    0.7826\n",
      "sepal width:    2.0  4.4   3.05   0.43   -0.4194\n",
      "petal length:   1.0  6.9   3.76   1.76    0.9490  (high!)\n",
      "petal width:    0.1  2.5   1.20   0.76    0.9565  (high!)\n",
      "============== ==== ==== ======= ===== ====================\n",
      "\n",
      ":Missing Attribute Values: None\n",
      ":Class Distribution: 33.3% for each of 3 classes.\n",
      ":Creator: R.A. Fisher\n",
      ":Donor: Michael Marshall (MARSHALL%PLU@io.arc.nasa.gov)\n",
      ":Date: July, 1988\n",
      "\n",
      "The famous Iris database, first used by Sir R.A. Fisher. The dataset is taken\n",
      "from Fisher's paper. Note that it's the same as in R, but not as in the UCI\n",
      "Machine Learning Repository, which has two wrong data points.\n",
      "\n",
      "This is perhaps the best known database to be found in the\n",
      "pattern recognition literature.  Fisher's paper is a classic in the field and\n",
      "is referenced frequently to this day.  (See Duda & Hart, for example.)  The\n",
      "data set contains 3 classes of 50 instances each, where each class refers to a\n",
      "type of iris plant.  One class is linearly separable from the other 2; the\n",
      "latter are NOT linearly separable from each other.\n",
      "\n",
      "|details-start|\n",
      "**References**\n",
      "|details-split|\n",
      "\n",
      "- Fisher, R.A. \"The use of multiple measurements in taxonomic problems\"\n",
      "  Annual Eugenics, 7, Part II, 179-188 (1936); also in \"Contributions to\n",
      "  Mathematical Statistics\" (John Wiley, NY, 1950).\n",
      "- Duda, R.O., & Hart, P.E. (1973) Pattern Classification and Scene Analysis.\n",
      "  (Q327.D83) John Wiley & Sons.  ISBN 0-471-22361-1.  See page 218.\n",
      "- Dasarathy, B.V. (1980) \"Nosing Around the Neighborhood: A New System\n",
      "  Structure and Classification Rule for Recognition in Partially Exposed\n",
      "  Environments\".  IEEE Transactions on Pattern Analysis and Machine\n",
      "  Intelligence, Vol. PAMI-2, No. 1, 67-71.\n",
      "- Gates, G.W. (1972) \"The Reduced Nearest Neighbor Rule\".  IEEE Transactions\n",
      "  on Information Theory, May 1972, 431-433.\n",
      "- See also: 1988 MLC Proceedings, 54-64.  Cheeseman et al\"s AUTOCLASS II\n",
      "  conceptual clustering system finds 3 classes in the data.\n",
      "- Many, many more ...\n",
      "\n",
      "|details-end|\n",
      "\n"
     ]
    },
    {
     "data": {
      "image/png": "[encoded data removed]",
      "text/plain": [
       "<Figure size 640x480 with 1 Axes>"
      ]
     },
     "metadata": {},
     "output_type": "display_data"
    }
   ],
   "source": [
    "iris = load_iris()\n",
    "\n",
    "# Using pandas for my own sanity\n",
    "iris_df = pd.DataFrame(data=iris.data, columns=iris.feature_names)\n",
    "\n",
    "print(f\"Iris Dataset Description: {iris.DESCR}\")\n",
    "\n",
    "# Set the plots using the dataframe. Side note I learned what \"sepal\" means through this assignment\n",
    "plt.plot(iris_df[\"sepal length (cm)\"], iris_df[\"sepal width (cm)\"], \".\")\n",
    "\n",
    "# Setting the title and labels for the plot...the question didn\"t specify this, but I needed it.\n",
    "plt.title(\"Sepal Length vs. Sepal Width\")\n",
    "plt.xlabel(\"Sepal Length (cm)\")\n",
    "plt.ylabel(\"Sepal Width (cm)\")\n",
    "plt.show()"
   ]
  },
  {
   "cell_type": "code",
   "execution_count": 6,
   "metadata": {},
   "outputs": [
    {
     "name": "stdout",
     "output_type": "stream",
     "text": [
      "California Housing Dataset Description: .. _california_housing_dataset:\n",
      "\n",
      "California Housing dataset\n",
      "--------------------------\n",
      "\n",
      "**Data Set Characteristics:**\n",
      "\n",
      ":Number of Instances: 20640\n",
      "\n",
      ":Number of Attributes: 8 numeric, predictive attributes and the target\n",
      "\n",
      ":Attribute Information:\n",
      "    - MedInc        median income in block group\n",
      "    - HouseAge      median house age in block group\n",
      "    - AveRooms      average number of rooms per household\n",
      "    - AveBedrms     average number of bedrooms per household\n",
      "    - Population    block group population\n",
      "    - AveOccup      average number of household members\n",
      "    - Latitude      block group latitude\n",
      "    - Longitude     block group longitude\n",
      "\n",
      ":Missing Attribute Values: None\n",
      "\n",
      "This dataset was obtained from the StatLib repository.\n",
      "https://www.dcc.fc.up.pt/~ltorgo/Regression/cal_housing.html\n",
      "\n",
      "The target variable is the median house value for California districts,\n",
      "expressed in hundreds of thousands of dollars ($100,000).\n",
      "\n",
      "This dataset was derived from the 1990 U.S. census, using one row per census\n",
      "block group. A block group is the smallest geographical unit for which the U.S.\n",
      "Census Bureau publishes sample data (a block group typically has a population\n",
      "of 600 to 3,000 people).\n",
      "\n",
      "A household is a group of people residing within a home. Since the average\n",
      "number of rooms and bedrooms in this dataset are provided per household, these\n",
      "columns may take surprisingly large values for block groups with few households\n",
      "and many empty houses, such as vacation resorts.\n",
      "\n",
      "It can be downloaded/loaded using the\n",
      ":func:`sklearn.datasets.fetch_california_housing` function.\n",
      "\n",
      ".. rubric:: References\n",
      "\n",
      "- Pace, R. Kelley and Ronald Barry, Sparse Spatial Autoregressions,\n",
      "  Statistics and Probability Letters, 33 (1997) 291-297\n",
      "\n"
     ]
    },
    {
     "data": {
      "image/png": "[encoded data removed]",
      "text/plain": [
       "<Figure size 640x480 with 1 Axes>"
      ]
     },
     "metadata": {},
     "output_type": "display_data"
    }
   ],
   "source": [
    "california = fetch_california_housing()\n",
    "\n",
    "print(f\"California Housing Dataset Description: {california.DESCR}\")\n",
    "\n",
    "california_df = pd.DataFrame(data=california.data, columns=california.feature_names)\n",
    "\n",
    "# Get the third and fifth columns. 0 Based index so it will be 2 and 4....not the best plot but wanted to follow the question still\n",
    "x = california_df.iloc[:, 2]\n",
    "y = california_df.iloc[:, 4]\n",
    "\n",
    "# Make sure it has the +\n",
    "plt.plot(x, y, \"+\")\n",
    "\n",
    "plt.title(\"Population vs Average number of rooms\")\n",
    "plt.xlabel(california.feature_names[2])\n",
    "plt.ylabel(california.feature_names[4])\n",
    "plt.show()\n"
   ]
  },
  {
   "cell_type": "code",
   "execution_count": null,
   "metadata": {},
   "outputs": [],
   "source": [
    "# Creating a 2D numpy array\n",
    "multi_dimensional_array = np.array([np.arange(7), np.arange(7), np.arange(7)])\n",
    "\n",
    "print(multi_dimensional_array)"
   ]
  },
  {
   "cell_type": "code",
   "execution_count": 11,
   "metadata": {},
   "outputs": [
    {
     "data": {
      "text/plain": [
       "array([0., 1., 2., 3., 4., 5., 6.], dtype=float32)"
      ]
     },
     "execution_count": 11,
     "metadata": {},
     "output_type": "execute_result"
    },
    {
     "data": {
      "text/plain": [
       "dtype('float32')"
      ]
     },
     "execution_count": 11,
     "metadata": {},
     "output_type": "execute_result"
    }
   ],
   "source": [
    "# Creating an array of float32 numbers using the example from the ch-02.ipynb\n",
    "arr = np.arange(7, dtype=np.float32)\n",
    "\n",
    "arr\n",
    "arr.dtype"
   ]
  },
  {
   "cell_type": "code",
   "execution_count": 12,
   "metadata": {},
   "outputs": [
    {
     "data": {
      "text/plain": [
       "array([0.+0.j, 1.+0.j, 2.+0.j, 3.+0.j, 4.+0.j, 5.+0.j, 6.+0.j])"
      ]
     },
     "execution_count": 12,
     "metadata": {},
     "output_type": "execute_result"
    },
    {
     "data": {
      "text/plain": [
       "dtype('complex128')"
      ]
     },
     "execution_count": 12,
     "metadata": {},
     "output_type": "execute_result"
    }
   ],
   "source": [
    "# Creating a complex array using the example from the ch-02.ipynb\n",
    "complex_array = np.arange(7, dtype=\"D\")\n",
    "\n",
    "complex_array\n",
    "complex_array.dtype"
   ]
  },
  {
   "cell_type": "code",
   "execution_count": null,
   "metadata": {},
   "outputs": [],
   "source": [
    "# Since arrays start at 0 we need 9 to include the number 8\n",
    "array = np.arange(9)\n",
    "print(f\"Original array {array}\")\n",
    "\n",
    "# Slicing the array to get the 4th through 7th elements\n",
    "part_array = array[3:7]\n",
    "print(f\"Partial array {part_array}\")\n",
    "\n",
    "# Slicing the array to get the elements in increments of 2\n",
    "incremented_array = array[0:8:2]\n",
    "print(f\"Increments of 2 array {incremented_array}\")\n",
    "\n",
    "# Flip it and reverse it\n",
    "reversed_array = array[::-1]\n",
    "print(f\"Reversed array {reversed_array}\")"
   ]
  },
  {
   "cell_type": "code",
   "execution_count": null,
   "metadata": {},
   "outputs": [],
   "source": [
    "# Sorry for the extra print statements, but the lack of spacing was killing me\n",
    "arr = np.array([[1, 2, 3], [4, 5, 6], [7, 8, 9]])\n",
    "\n",
    "print(f\"Original 2d array: \\n  {arr}\")\n",
    "print()\n",
    "\n",
    "# Using the built in numpy methods to manipulate the array\n",
    "ravel_array = arr.ravel()\n",
    "print(f\"Ravel array: {ravel_array}\")\n",
    "print()\n",
    "\n",
    "flatten_array = arr.flatten()\n",
    "print(f\"Flatten array: {flatten_array}\")\n",
    "print()\n",
    "\n",
    "arr.shape = (1,9)\n",
    "print(f\"Reshaped array: {arr}\")\n",
    "print()\n",
    "\n",
    "# Set the array back to 3x3\n",
    "arr.resize((3,3))\n",
    "print(f\"Resized array: \\n {arr}\")"
   ]
  },
  {
   "cell_type": "code",
   "execution_count": null,
   "metadata": {},
   "outputs": [],
   "source": [
    "# Using the array creation from ch-02.ipynb\n",
    "arr = np.arange(24).reshape(2, 12)\n",
    "\n",
    "# Using the built in numpy methods to display the requested data\n",
    "print(f\"Original 2d array: \\n  {arr}\")\n",
    "print()\n",
    "\n",
    "print(f\"Number of dimensions: {arr.ndim}\")\n",
    "print()\n",
    "\n",
    "print(f\"Number of elements: {arr.size}\")\n",
    "print()\n",
    "\n",
    "print(f\"Count of bytes per element: {arr.itemsize}\")\n",
    "print()\n",
    "\n",
    "print(f\"Full count of bytes: {arr.nbytes}\")"
   ]
  },
  {
   "cell_type": "code",
   "execution_count": 14,
   "metadata": {},
   "outputs": [
    {
     "name": "stdout",
     "output_type": "stream",
     "text": [
      "<class 'list'>\n"
     ]
    }
   ],
   "source": [
    "arr = np.arange(24).reshape(2, 12)\n",
    "\n",
    "list = arr.tolist()\n",
    "\n",
    "type(list)"
   ]
  }
 ],
 "metadata": {
  "kernelspec": {
   "display_name": "Python 3",
   "language": "python",
   "name": "python3"
  },
  "language_info": {
   "codemirror_mode": {
    "name": "ipython",
    "version": 3
   },
   "file_extension": ".py",
   "mimetype": "text/x-python",
   "name": "python",
   "nbconvert_exporter": "python",
   "pygments_lexer": "ipython3",
   "version": "3.10.5"
  }
 },
 "nbformat": 4,
 "nbformat_minor": 2
}

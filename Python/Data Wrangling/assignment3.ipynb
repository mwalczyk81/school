{
 "cells": [
  {
   "cell_type": "markdown",
   "metadata": {},
   "source": [
    "<div align=\"center\">\n",
    "\n",
    "# Assignment 3\n",
    "\n",
    "---\n",
    "\n",
    "**Author:** Matthew Walczyk  \n",
    "**Date:** 9/9/2024  \n",
    "**Modified By:** Matthew Walczyk  \n",
    "**Description:** This program contains my week 3 exercises using pandas.\n",
    "\n",
    "---\n",
    "</div>"
   ]
  },
  {
   "cell_type": "code",
   "execution_count": 1,
   "metadata": {},
   "outputs": [
    {
     "name": "stdout",
     "output_type": "stream",
     "text": [
      "4.9\n"
     ]
    }
   ],
   "source": [
    "import pandas as pd\n",
    "\n",
    "# Using the GitHub repo for the data so in theory it works anywhere\n",
    "data = pd.read_csv('https://raw.githubusercontent.com/stefmolin/Hands-On-Data-Analysis-with-Pandas/master/ch_02/data/parsed.csv')\n",
    "\n",
    "df = pd.DataFrame(data)\n",
    "\n",
    "# Filtering for Japan and magType 'mb'\n",
    "japan_earthquakes_mb = df[(df['parsed_place'].str.contains('Japan', case=False, na=False)) & (df['magType'] == 'mb')]\n",
    "\n",
    "# Calculate the 95th percentile for the magnitude in Japan with 'mb' type\n",
    "percentile_95_japan_mb = japan_earthquakes_mb['mag'].quantile(0.95)\n",
    "\n",
    "print(percentile_95_japan_mb)"
   ]
  },
  {
   "cell_type": "code",
   "execution_count": 2,
   "metadata": {},
   "outputs": [
    {
     "name": "stdout",
     "output_type": "stream",
     "text": [
      "Percent of earthquakes that also had tsunamis in Indonesia 23.12925170068027%\n"
     ]
    }
   ],
   "source": [
    "indonesia_earthquakes = df[df['parsed_place'].str.contains('Indonesia')]\n",
    "\n",
    "# Calculate the percentage by getting the mean then multiply by 100\n",
    "tsunami_percentage = indonesia_earthquakes['tsunami'].mean() * 100\n",
    "\n",
    "print(f\"Percent of earthquakes that also had tsunamis in Indonesia {tsunami_percentage}%\")"
   ]
  },
  {
   "cell_type": "code",
   "execution_count": 8,
   "metadata": {},
   "outputs": [
    {
     "name": "stdout",
     "output_type": "stream",
     "text": [
      "Summary Statistics for Earthquakes in Nevada:\n",
      "             cdi        dmin       felt         gap         mag   mmi  \\\n",
      "count  15.000000  681.000000  15.000000  681.000000  681.000000  1.00   \n",
      "mean    2.440000    0.166199   2.400000  153.668120    0.500073  2.84   \n",
      "std     0.501142    0.166228   4.626013   68.735302    0.696710   NaN   \n",
      "min     2.000000    0.001000   1.000000   29.140000   -0.500000  2.84   \n",
      "25%     2.000000    0.053000   1.000000   97.380000   -0.100000  2.84   \n",
      "50%     2.200000    0.112000   1.000000  149.140000    0.400000  2.84   \n",
      "75%     2.900000    0.233000   1.000000  199.720000    0.900000  2.84   \n",
      "max     3.300000    1.414000  19.000000  355.910000    2.900000  2.84   \n",
      "\n",
      "              nst         rms         sig          time  tsunami     tz  \\\n",
      "count  681.000000  681.000000  681.000000  6.810000e+02    681.0  681.0   \n",
      "mean    12.618209    0.151986   10.970631  1.538314e+12      0.0 -480.0   \n",
      "std      9.866963    0.084662   19.607150  5.965637e+08      0.0    0.0   \n",
      "min      3.000000    0.000500    0.000000  1.537247e+12      0.0 -480.0   \n",
      "25%      6.000000    0.106900    0.000000  1.537854e+12      0.0 -480.0   \n",
      "50%     10.000000    0.146300    2.000000  1.538280e+12      0.0 -480.0   \n",
      "75%     16.000000    0.187100   12.000000  1.538821e+12      0.0 -480.0   \n",
      "max     61.000000    0.863400  129.000000  1.539461e+12      0.0 -480.0   \n",
      "\n",
      "            updated  \n",
      "count  6.810000e+02  \n",
      "mean   1.538402e+12  \n",
      "std    6.010951e+08  \n",
      "min    1.537307e+12  \n",
      "25%    1.537928e+12  \n",
      "50%    1.538428e+12  \n",
      "75%    1.538878e+12  \n",
      "max    1.539483e+12  \n"
     ]
    }
   ],
   "source": [
    "# Filter for Nevada\n",
    "nevada_earthquakes = df[df['parsed_place'].str.contains('Nevada', case=False, na=False)]\n",
    "\n",
    "print(\"Summary Statistics for Earthquakes in Nevada:\")\n",
    "print(nevada_earthquakes.describe())"
   ]
  },
  {
   "cell_type": "code",
   "execution_count": 3,
   "metadata": {},
   "outputs": [
    {
     "name": "stdout",
     "output_type": "stream",
     "text": [
      "     alert  cdi        code  \\\n",
      "0      NaN  NaN    37389218   \n",
      "1      NaN  NaN    37389202   \n",
      "2      NaN  4.4    37389194   \n",
      "3      NaN  NaN    37389186   \n",
      "4      NaN  NaN    73096941   \n",
      "...    ...  ...         ...   \n",
      "9327   NaN  NaN    73086771   \n",
      "9328   NaN  NaN    38063967   \n",
      "9329   NaN  NaN  2018261000   \n",
      "9330   NaN  NaN    38063959   \n",
      "9331   NaN  NaN    38063935   \n",
      "\n",
      "                                                 detail      dmin  felt  \\\n",
      "0     https://earthquake.usgs.gov/fdsnws/event/1/que...  0.008693   NaN   \n",
      "1     https://earthquake.usgs.gov/fdsnws/event/1/que...  0.020030   NaN   \n",
      "2     https://earthquake.usgs.gov/fdsnws/event/1/que...  0.021370  28.0   \n",
      "3     https://earthquake.usgs.gov/fdsnws/event/1/que...  0.026180   NaN   \n",
      "4     https://earthquake.usgs.gov/fdsnws/event/1/que...  0.077990   NaN   \n",
      "...                                                 ...       ...   ...   \n",
      "9327  https://earthquake.usgs.gov/fdsnws/event/1/que...  0.018060   NaN   \n",
      "9328  https://earthquake.usgs.gov/fdsnws/event/1/que...  0.030410   NaN   \n",
      "9329  https://earthquake.usgs.gov/fdsnws/event/1/que...  0.452600   NaN   \n",
      "9330  https://earthquake.usgs.gov/fdsnws/event/1/que...  0.018650   NaN   \n",
      "9331  https://earthquake.usgs.gov/fdsnws/event/1/que...  0.016980   NaN   \n",
      "\n",
      "        gap             ids   mag magType  ...           time  \\\n",
      "0      85.0    ,ci37389218,  1.35      ml  ...  1539475168010   \n",
      "1      79.0    ,ci37389202,  1.29      ml  ...  1539475129610   \n",
      "2      21.0    ,ci37389194,  3.42      ml  ...  1539475062610   \n",
      "3      39.0    ,ci37389186,  0.44      ml  ...  1539474978070   \n",
      "4     192.0    ,nc73096941,  2.16      md  ...  1539474716050   \n",
      "...     ...             ...   ...     ...  ...            ...   \n",
      "9327  185.0    ,nc73086771,  0.62      md  ...  1537230228060   \n",
      "9328   50.0    ,ci38063967,  1.00      ml  ...  1537230135130   \n",
      "9329  276.0  ,pr2018261000,  2.40      md  ...  1537229908180   \n",
      "9330   61.0    ,ci38063959,  1.10      ml  ...  1537229545350   \n",
      "9331   39.0    ,ci38063935,  0.66      ml  ...  1537228864470   \n",
      "\n",
      "                                         title  tsunami        type  \\\n",
      "0                M 1.4 - 9km NE of Aguanga, CA        0  earthquake   \n",
      "1                M 1.3 - 9km NE of Aguanga, CA        0  earthquake   \n",
      "2                M 3.4 - 8km NE of Aguanga, CA        0  earthquake   \n",
      "3                M 0.4 - 9km NE of Aguanga, CA        0  earthquake   \n",
      "4                M 2.2 - 10km NW of Avenal, CA        0  earthquake   \n",
      "...                                        ...      ...         ...   \n",
      "9327      M 0.6 - 9km ENE of Mammoth Lakes, CA        0  earthquake   \n",
      "9328               M 1.0 - 3km W of Julian, CA        0  earthquake   \n",
      "9329  M 2.4 - 35km NNE of Hatillo, Puerto Rico        0  earthquake   \n",
      "9330             M 1.1 - 9km NE of Aguanga, CA        0  earthquake   \n",
      "9331             M 0.7 - 9km NE of Aguanga, CA        0  earthquake   \n",
      "\n",
      "                                                  types     tz        updated  \\\n",
      "0            ,geoserve,nearby-cities,origin,phase-data, -480.0  1539475395144   \n",
      "1            ,geoserve,nearby-cities,origin,phase-data, -480.0  1539475253925   \n",
      "2     ,dyfi,focal-mechanism,geoserve,nearby-cities,o... -480.0  1539536756176   \n",
      "3            ,geoserve,nearby-cities,origin,phase-data, -480.0  1539475196167   \n",
      "4     ,geoserve,nearby-cities,origin,phase-data,scit... -480.0  1539477547926   \n",
      "...                                                 ...    ...            ...   \n",
      "9327         ,geoserve,nearby-cities,origin,phase-data, -480.0  1537285598315   \n",
      "9328  ,geoserve,nearby-cities,origin,phase-data,scit... -480.0  1537276800970   \n",
      "9329                       ,geoserve,origin,phase-data, -240.0  1537243777410   \n",
      "9330  ,focal-mechanism,geoserve,nearby-cities,origin... -480.0  1537230211640   \n",
      "9331  ,focal-mechanism,geoserve,nearby-cities,origin... -480.0  1537305830770   \n",
      "\n",
      "                                                    url  parsed_place  \\\n",
      "0     https://earthquake.usgs.gov/earthquakes/eventp...    California   \n",
      "1     https://earthquake.usgs.gov/earthquakes/eventp...    California   \n",
      "2     https://earthquake.usgs.gov/earthquakes/eventp...    California   \n",
      "3     https://earthquake.usgs.gov/earthquakes/eventp...    California   \n",
      "4     https://earthquake.usgs.gov/earthquakes/eventp...    California   \n",
      "...                                                 ...           ...   \n",
      "9327  https://earthquake.usgs.gov/earthquakes/eventp...    California   \n",
      "9328  https://earthquake.usgs.gov/earthquakes/eventp...    California   \n",
      "9329  https://earthquake.usgs.gov/earthquakes/eventp...   Puerto Rico   \n",
      "9330  https://earthquake.usgs.gov/earthquakes/eventp...    California   \n",
      "9331  https://earthquake.usgs.gov/earthquakes/eventp...    California   \n",
      "\n",
      "     on_ring_of_fire  \n",
      "0               True  \n",
      "1               True  \n",
      "2               True  \n",
      "3               True  \n",
      "4               True  \n",
      "...              ...  \n",
      "9327            True  \n",
      "9328            True  \n",
      "9329           False  \n",
      "9330            True  \n",
      "9331            True  \n",
      "\n",
      "[9332 rows x 28 columns]\n"
     ]
    }
   ],
   "source": [
    "ring_of_fire_locations = [\n",
    "    \"Alaska\", \"Antarctic\", \"Bolivia\", \"California\", \"Canada\", \"Chile\", \n",
    "    \"Costa Rica\", \"Ecuador\", \"Fiji\", \"Guatemala\", \"Indonesia\", \"Japan\", \n",
    "    \"Kermadec Islands\", \"Mexico\", \"New Zealand\", \"Peru\", \"Philippines\", \n",
    "    \"Russia\", \"Taiwan\", \"Tonga\", \"Washington\"\n",
    "]\n",
    "\n",
    "def is_ring_of_fire(place):\n",
    "    # Python version of the .NET any() method (https://www.geeksforgeeks.org/python-any-function/) to check if the place is in the ring_of_fire_locations list \n",
    "    return any(location in place for location in ring_of_fire_locations)\n",
    "\n",
    "# Add the column with the value\n",
    "df['on_ring_of_fire'] = df['parsed_place'].apply(is_ring_of_fire)\n",
    "\n",
    "print(df)"
   ]
  },
  {
   "cell_type": "code",
   "execution_count": 4,
   "metadata": {},
   "outputs": [
    {
     "name": "stdout",
     "output_type": "stream",
     "text": [
      "Ring of Fire earthquakes: 7189\n",
      "Earthquakes outside the Ring of Fire: 2143\n"
     ]
    }
   ],
   "source": [
    "ring_of_fire_counts = df['on_ring_of_fire'].value_counts()\n",
    "\n",
    "# Use the get method to get the count of earthquakes inside and outside the Ring of Fire....if none found use 0 as default\n",
    "num_in_ring_of_fire = ring_of_fire_counts.get(True, 0)\n",
    "num_outside_ring_of_fire = ring_of_fire_counts.get(False, 0)\n",
    "\n",
    "print(f\"Ring of Fire earthquakes: {num_in_ring_of_fire}\")\n",
    "print(f\"Earthquakes outside the Ring of Fire: {num_outside_ring_of_fire}\")"
   ]
  },
  {
   "cell_type": "code",
   "execution_count": 5,
   "metadata": {},
   "outputs": [
    {
     "name": "stdout",
     "output_type": "stream",
     "text": [
      "Number of earthquakes that also had tsunamis in the Ring of Fire: 45\n"
     ]
    }
   ],
   "source": [
    "# Filter based on being in the ring of fire and having a tsunami\n",
    "ring_of_fire_tsunamis = df[(df['on_ring_of_fire'] == True) & (df['tsunami'] == 1)].shape[0]\n",
    "\n",
    "print(f\"Number of earthquakes that also had tsunamis in the Ring of Fire: {ring_of_fire_tsunamis}\")"
   ]
  }
 ],
 "metadata": {
  "kernelspec": {
   "display_name": "Python 3",
   "language": "python",
   "name": "python3"
  },
  "language_info": {
   "codemirror_mode": {
    "name": "ipython",
    "version": 3
   },
   "file_extension": ".py",
   "mimetype": "text/x-python",
   "name": "python",
   "nbconvert_exporter": "python",
   "pygments_lexer": "ipython3",
   "version": "3.10.5"
  }
 },
 "nbformat": 4,
 "nbformat_minor": 2
}

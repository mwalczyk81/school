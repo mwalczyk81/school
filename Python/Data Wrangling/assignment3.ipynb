{
 "cells": [
  {
   "cell_type": "markdown",
   "metadata": {},
   "source": [
    "<div align=\"center\">\n",
    "\n",
    "# Assignment 3\n",
    "\n",
    "---\n",
    "\n",
    "**Author:** Matthew Walczyk  \n",
    "**Date:** 9/9/2024  \n",
    "**Modified By:** Matthew Walczyk  \n",
    "\n",
    "---\n",
    "\n",
    "## Description\n",
    "This program contains my week 3 exercises using pandas.\n",
    "</div>"
   ]
  },
  {
   "cell_type": "code",
   "execution_count": 4,
   "metadata": {},
   "outputs": [
    {
     "name": "stdout",
     "output_type": "stream",
     "text": [
      "4.9\n"
     ]
    }
   ],
   "source": [
    "import pandas as pd\n",
    "\n",
    "# Not sure how to handle this to make it work when you run it\n",
    "data = pd.read_csv('C:/Users/fclplb8/Source/repos/Hands-On-Data-Analysis-with-Pandas-2nd-edition/ch_02/data/parsed.csv')\n",
    "\n",
    "df = pd.DataFrame(data)\n",
    "\n",
    "# Filtering for Japan and magType 'mb'\n",
    "japan_earthquakes_mb = df[(df['parsed_place'].str.contains('Japan')) & (df['magType'] == 'mb')]\n",
    "\n",
    "# Calculate the 95th percentile for the magnitude in Japan with 'mb' type\n",
    "percentile_95_japan_mb = japan_earthquakes_mb['mag'].quantile(0.95)\n",
    "\n",
    "print(percentile_95_japan_mb)"
   ]
  },
  {
   "cell_type": "code",
   "execution_count": 15,
   "metadata": {},
   "outputs": [
    {
     "name": "stdout",
     "output_type": "stream",
     "text": [
      "The percentage of earthquakes in Indonesia that were coupled with tsunamis is 23.12925170068027%\n"
     ]
    }
   ],
   "source": [
    "indonesia_earthquakes = df[df['parsed_place'].str.contains('Indonesia')]\n",
    "\n",
    "# Calculate the percentage by getting the mean then multiply by 100\n",
    "tsunami_percentage = indonesia_earthquakes['tsunami'].mean() * 100\n",
    "\n",
    "print(f\"The percentage of earthquakes in Indonesia that were coupled with tsunamis is {tsunami_percentage}%\")"
   ]
  },
  {
   "cell_type": "code",
   "execution_count": null,
   "metadata": {},
   "outputs": [],
   "source": [
    "ring_of_fire_locations = [\n",
    "    \"Alaska\", \"Antarctic\", \"Bolivia\", \"California\", \"Canada\", \"Chile\", \n",
    "    \"Costa Rica\", \"Ecuador\", \"Fiji\", \"Guatemala\", \"Indonesia\", \"Japan\", \n",
    "    \"Kermadec Islands\", \"Mexico\", \"New Zealand\", \"Peru\", \"Philippines\", \n",
    "    \"Russia\", \"Taiwan\", \"Tonga\", \"Washington\"\n",
    "]\n",
    "\n",
    "def is_ring_of_fire(place):\n",
    "    # Python version of the .NET any() method (https://www.geeksforgeeks.org/python-any-function/) to check if the place is in the ring_of_fire_locations list \n",
    "    return any(location in place for location in ring_of_fire_locations)\n",
    "\n",
    "# Add the column with the value\n",
    "df['on_ring_of_fire'] = df['parsed_place'].apply(is_ring_of_fire)\n",
    "\n",
    "print(df)"
   ]
  },
  {
   "cell_type": "code",
   "execution_count": 23,
   "metadata": {},
   "outputs": [
    {
     "name": "stdout",
     "output_type": "stream",
     "text": [
      "Ring of Fire earthquakes: 7185\n",
      "Earthquakes outside the Ring of Fire: 2147\n"
     ]
    }
   ],
   "source": [
    "ring_of_fire_counts = df['on_ring_of_fire'].value_counts()\n",
    "\n",
    "# Use the get method to get the count of earthquakes inside and outside the Ring of Fire....if none found use 0 as default\n",
    "num_in_ring_of_fire = ring_of_fire_counts.get(True, 0)\n",
    "num_outside_ring_of_fire = ring_of_fire_counts.get(False, 0)\n",
    "\n",
    "print(f\"Ring of Fire earthquakes: {num_in_ring_of_fire}\")\n",
    "print(f\"Earthquakes outside the Ring of Fire: {num_outside_ring_of_fire}\")"
   ]
  },
  {
   "cell_type": "code",
   "execution_count": 22,
   "metadata": {},
   "outputs": [
    {
     "name": "stdout",
     "output_type": "stream",
     "text": [
      "Number of earthquakes coupled with tsunamis in the Ring of Fire: 45\n"
     ]
    }
   ],
   "source": [
    "# Filter based on being in the ring of fire and having a tsunami\n",
    "ring_of_fire_tsunamis = df[(df['on_ring_of_fire'] == True) & (df['tsunami'] == 1)].shape[0]\n",
    "\n",
    "print(f\"Number of earthquakes coupled with tsunamis in the Ring of Fire: {ring_of_fire_tsunamis}\")"
   ]
  }
 ],
 "metadata": {
  "kernelspec": {
   "display_name": "Python 3",
   "language": "python",
   "name": "python3"
  },
  "language_info": {
   "codemirror_mode": {
    "name": "ipython",
    "version": 3
   },
   "file_extension": ".py",
   "mimetype": "text/x-python",
   "name": "python",
   "nbconvert_exporter": "python",
   "pygments_lexer": "ipython3",
   "version": "3.10.11"
  }
 },
 "nbformat": 4,
 "nbformat_minor": 2
}

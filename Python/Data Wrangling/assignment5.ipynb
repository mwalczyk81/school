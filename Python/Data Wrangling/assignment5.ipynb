{
 "cells": [
  {
   "cell_type": "markdown",
   "metadata": {},
   "source": [
    "<div align=\"center\">\n",
    "\n",
    "# Assignment 5\n",
    "\n",
    "---\n",
    "\n",
    "**Author:** Matthew Walczyk  \n",
    "**Date:** 9/23/2024  \n",
    "**Modified By:** Matthew Walczyk  \n",
    "**Description:** This program contains my week 5 exercises using pandas.\n",
    "\n",
    "---\n",
    "</div>"
   ]
  },
  {
   "cell_type": "code",
   "execution_count": 8,
   "metadata": {},
   "outputs": [],
   "source": [
    "import pandas as pd\n",
    "\n",
    "apple = pd.read_csv('https://raw.githubusercontent.com/stefmolin/Hands-On-Data-Analysis-with-Pandas-2nd-edition/refs/heads/master/ch_03/exercises/aapl.csv')\n",
    "amazon = pd.read_csv('https://raw.githubusercontent.com/stefmolin/Hands-On-Data-Analysis-with-Pandas-2nd-edition/refs/heads/master/ch_03/exercises/amzn.csv')\n",
    "facebook = pd.read_csv('https://raw.githubusercontent.com/stefmolin/Hands-On-Data-Analysis-with-Pandas-2nd-edition/refs/heads/master/ch_03/exercises/fb.csv')\n",
    "google = pd.read_csv('https://raw.githubusercontent.com/stefmolin/Hands-On-Data-Analysis-with-Pandas-2nd-edition/refs/heads/master/ch_03/exercises/goog.csv')\n",
    "netflix = pd.read_csv('https://raw.githubusercontent.com/stefmolin/Hands-On-Data-Analysis-with-Pandas-2nd-edition/refs/heads/master/ch_03/exercises/nflx.csv')\n",
    "\n",
    "apple = apple.assign(ticker='AAPL')\n",
    "amazon = amazon.assign(ticker='AMZN')\n",
    "facebook = facebook.assign(ticker='FB')\n",
    "google = google.assign(ticker='GOOG')\n",
    "netflix = netflix.assign(ticker='NFLX')\n",
    "\n",
    "faang = pd.concat([apple, amazon, facebook, google, netflix], ignore_index=True)\n",
    "\n",
    "faang.to_csv('faang.csv', index=False)\n"
   ]
  },
  {
   "cell_type": "code",
   "execution_count": 9,
   "metadata": {},
   "outputs": [
    {
     "name": "stdout",
     "output_type": "stream",
     "text": [
      "           date         high          low         open        close  \\\n",
      "0    2018-01-02    43.075001    42.314999    42.540001    43.064999   \n",
      "251  2018-01-02  1190.000000  1170.510010  1172.000000  1189.010010   \n",
      "502  2018-01-02   181.580002   177.550003   177.679993   181.419998   \n",
      "753  2018-01-02  1066.939941  1045.229980  1048.339966  1065.000000   \n",
      "1004 2018-01-02   201.649994   195.419998   196.100006   201.070007   \n",
      "\n",
      "         volume ticker  \n",
      "0     102223600   AAPL  \n",
      "251     2694500   AMZN  \n",
      "502    18151900     FB  \n",
      "753     1237600   GOOG  \n",
      "1004   10966900   NFLX  \n"
     ]
    }
   ],
   "source": [
    "faang['date'] = pd.to_datetime(faang['date'])\n",
    "faang['volume'] = faang['volume'].astype(int)\n",
    "\n",
    "faang = faang.sort_values(by=['date', 'ticker'])\n",
    "\n",
    "print(faang.head())"
   ]
  },
  {
   "cell_type": "code",
   "execution_count": 10,
   "metadata": {},
   "outputs": [
    {
     "name": "stdout",
     "output_type": "stream",
     "text": [
      "Seven lowest volume : \n",
      "           date         high          low         open        close  volume  \\\n",
      "879 2018-07-03  1135.819946  1100.020020  1135.819946  1102.890015  679000   \n",
      "979 2018-11-23  1037.589966  1022.398987  1030.000000  1023.880005  691500   \n",
      "852 2018-05-24  1080.469971  1066.150024  1079.000000  1079.239990  766800   \n",
      "883 2018-07-10  1159.589966  1149.589966  1156.979980  1152.839966  798400   \n",
      "905 2018-08-09  1255.541992  1246.010010  1249.900024  1249.099976  848600   \n",
      "912 2018-08-20  1211.000000  1194.625977  1205.020020  1207.770020  870800   \n",
      "914 2018-08-22  1211.839966  1199.000000  1200.000000  1207.329956  887400   \n",
      "\n",
      "    ticker  \n",
      "879   GOOG  \n",
      "979   GOOG  \n",
      "852   GOOG  \n",
      "883   GOOG  \n",
      "905   GOOG  \n",
      "912   GOOG  \n",
      "914   GOOG  \n"
     ]
    }
   ],
   "source": [
    "print(f\"Seven lowest volume : \\n {faang.nsmallest(7, 'volume')}\")"
   ]
  },
  {
   "cell_type": "code",
   "execution_count": 11,
   "metadata": {},
   "outputs": [
    {
     "name": "stdout",
     "output_type": "stream",
     "text": [
      "Melted: \n",
      "            date ticker variable         value\n",
      "0    2018-01-02   AAPL     open  4.254000e+01\n",
      "1    2018-01-02   AMZN     open  1.172000e+03\n",
      "2    2018-01-02     FB     open  1.776800e+02\n",
      "3    2018-01-02   GOOG     open  1.048340e+03\n",
      "4    2018-01-02   NFLX     open  1.961000e+02\n",
      "...         ...    ...      ...           ...\n",
      "6270 2018-12-31   AAPL   volume  1.400140e+08\n",
      "6271 2018-12-31   AMZN   volume  6.954500e+06\n",
      "6272 2018-12-31     FB   volume  2.462530e+07\n",
      "6273 2018-12-31   GOOG   volume  1.493300e+06\n",
      "6274 2018-12-31   NFLX   volume  1.350890e+07\n",
      "\n",
      "[6275 rows x 4 columns]\n"
     ]
    }
   ],
   "source": [
    "print(f\"Melted: \\n {faang.melt(id_vars=['date', 'ticker'], value_vars=['open', 'high', 'low', 'close', 'volume'])}\")"
   ]
  },
  {
   "cell_type": "markdown",
   "metadata": {},
   "source": [
    "There are a few ways that incorrect data can be handled if you know what it is. First you may want to filter it and inspect the data\n",
    "\n",
    "```python\n",
    "glitched = faang[faang['date'] == '2018-07-26']\n",
    "```\n",
    "\n",
    "From there if the data is completely unusable you can drop the data entirely\n",
    "\n",
    "```python\n",
    "cleaned = faang[faang['date'] != '2018-07-26']\n",
    "```\n",
    "\n",
    "If the data just needs to be corrected and you have the values you can update the data. For instance you could fill in a missing ticker\n",
    "\n",
    "```python\n",
    "faang.loc[faang['date'] == '2018-07-26', 'ticker'] = 'aapl'\n",
    "```\n",
    "\n",
    "You can also use the fill method from Pandas or interpolate the missing values. For instance if volume was missing\n",
    "\n",
    "```python\n",
    "faang['volume'].fillna(method='ffill', inplace=True)\n",
    "\n",
    "faang['volume'] = faang['volume'].interpolate()\n",
    "```\n",
    "\n",
    "Finally if you want to keep the data, but also need to know that there was a problem that day you can add a column to signify that\n",
    "\n",
    "```python\n",
    "faang['glitched'] = faang['date'] == '2018-07-26'\n",
    "```"
   ]
  }
 ],
 "metadata": {
  "kernelspec": {
   "display_name": "Python 3",
   "language": "python",
   "name": "python3"
  },
  "language_info": {
   "codemirror_mode": {
    "name": "ipython",
    "version": 3
   },
   "file_extension": ".py",
   "mimetype": "text/x-python",
   "name": "python",
   "nbconvert_exporter": "python",
   "pygments_lexer": "ipython3",
   "version": "3.10.11"
  }
 },
 "nbformat": 4,
 "nbformat_minor": 2
}

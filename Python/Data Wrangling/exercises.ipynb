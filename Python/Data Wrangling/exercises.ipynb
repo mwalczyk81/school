{
 "cells": [
  {
   "cell_type": "markdown",
   "metadata": {},
   "source": [
    "<h1 align=\"center\">Title: Assignment 1 Exercises</h1>\n",
    "\n",
    "- Author: Matthew Walczyk\n",
    "- Date: 8/26/2024\n",
    "- Modified By: Matthew Walczyk\n",
    "- Description: This program contains the exercises from the book using the statistics and math libraries in Python. I did reuse variables so the exercises need to be run in order the first time.\n"
   ]
  },
  {
   "cell_type": "markdown",
   "metadata": {},
   "source": [
    "2. No not all data is normally distributed. A normal distribution looks like a bell curve with the majority of the observations clustered around the center. While this does happen naturally the nature of data prevents it from happening every time. When data has outliers, is bounded, or is skewed it prevents it from being normally distributed. \n",
    "3. Typically the median is preferred when the data is skewed, has outliers, or is a small sample size. This allows for it to be a more accurate representation of the center of the data because in those instances the median could easily be shifted one way or the other due to the extreme values or small size."
   ]
  },
  {
   "cell_type": "markdown",
   "metadata": {},
   "source": [
    "# Coding exercises\n",
    "Exercises 1-3 are thought exercises that don't require coding. If you need a Python crash-course/refresher, work through the [`python_101.ipynb`](./python_101.ipynb) notebook in chapter 1.\n",
    "\n",
    "## Exercise 4: Generate the data by running this cell\n",
    "This will give you a list of numbers to work with in the remaining exercises."
   ]
  },
  {
   "cell_type": "code",
   "execution_count": 1,
   "metadata": {},
   "outputs": [],
   "source": [
    "import random\n",
    "\n",
    "random.seed(0)\n",
    "salaries = [round(random.random()*1000000, -3) for _ in range(100)]"
   ]
  },
  {
   "cell_type": "markdown",
   "metadata": {},
   "source": [
    "## Exercise 5: Calculating statistics and verifying\n",
    "### mean"
   ]
  },
  {
   "cell_type": "code",
   "execution_count": 31,
   "metadata": {},
   "outputs": [
    {
     "name": "stdout",
     "output_type": "stream",
     "text": [
      "585690.0\n",
      "585690.0\n"
     ]
    }
   ],
   "source": [
    "import statistics\n",
    "\n",
    "# Add up all the salaries and then divide by the number of salaries to find the average\n",
    "print(sum(salaries) / len(salaries))\n",
    "\n",
    "# Verify with the statistics module\n",
    "mean = statistics.mean(salaries)\n",
    "print(mean)"
   ]
  },
  {
   "cell_type": "markdown",
   "metadata": {},
   "source": [
    "### median"
   ]
  },
  {
   "cell_type": "code",
   "execution_count": 16,
   "metadata": {},
   "outputs": [
    {
     "name": "stdout",
     "output_type": "stream",
     "text": [
      "589000.0\n",
      "589000.0\n"
     ]
    }
   ],
   "source": [
    "# Sort the salaries in ascending order\n",
    "sorted_salaries = sorted(salaries)\n",
    "\n",
    "#Find the middle index\n",
    "middle = len(sorted_salaries) // 2\n",
    "\n",
    "# Calculate the median\n",
    "if len(sorted_salaries) % 2 == 0:\n",
    "    # If even need to average the middle two\n",
    "    median = (sorted_salaries[middle - 1] + sorted_salaries[middle]) / 2\n",
    "else:\n",
    "    # If odd just take the middle\n",
    "    median = sorted_salaries[middle]\n",
    "\n",
    "print(median)\n",
    "\n",
    "# Verify with the statistics module\n",
    "print(statistics.median(salaries)) "
   ]
  },
  {
   "cell_type": "markdown",
   "metadata": {},
   "source": [
    "### mode"
   ]
  },
  {
   "cell_type": "code",
   "execution_count": 15,
   "metadata": {},
   "outputs": [
    {
     "name": "stdout",
     "output_type": "stream",
     "text": [
      "477000.0\n",
      "477000.0\n"
     ]
    }
   ],
   "source": [
    "# Using max function to find the most common salary by using the count method as the key\n",
    "print(max(set(salaries), key=salaries.count))\n",
    "\n",
    "# Verify with the statistics module\n",
    "mode = statistics.mode(salaries)\n",
    "print(mode) "
   ]
  },
  {
   "cell_type": "markdown",
   "metadata": {},
   "source": [
    "### sample variance\n",
    "Remember to use Bessel's correction."
   ]
  },
  {
   "cell_type": "code",
   "execution_count": 36,
   "metadata": {},
   "outputs": [
    {
     "name": "stdout",
     "output_type": "stream",
     "text": [
      "70664054444.44444\n",
      "70664054444.44444\n"
     ]
    }
   ],
   "source": [
    "# Get the squared differences\n",
    "squared_diffs = [(x - mean) ** 2 for x in salaries]\n",
    "\n",
    "# Calculate the variance with Bessel's correction (Good thing I learned this in my stats class last semester)\n",
    "variance = sum(squared_diffs) / (len(salaries) - 1)\n",
    "\n",
    "print(variance)\n",
    "\n",
    "# Verify with the statistics module\n",
    "print(statistics.variance(salaries)) "
   ]
  },
  {
   "cell_type": "markdown",
   "metadata": {},
   "source": [
    "### sample standard deviation\n",
    "Remember to use Bessel's correction."
   ]
  },
  {
   "cell_type": "code",
   "execution_count": 37,
   "metadata": {},
   "outputs": [
    {
     "name": "stdout",
     "output_type": "stream",
     "text": [
      "265827.11382484\n",
      "265827.11382484\n"
     ]
    }
   ],
   "source": [
    "import math\n",
    "\n",
    "# Standard deviation is the square root of the variance. (Hopefully using the math module is allowed)\n",
    "standard_deviation = math.sqrt(variance)\n",
    "\n",
    "print(standard_deviation)\n",
    "\n",
    "# Verify with the statistics module\n",
    "print(statistics.stdev(salaries)) "
   ]
  },
  {
   "cell_type": "markdown",
   "metadata": {},
   "source": [
    "## Exercise 6: Calculating more statistics\n",
    "### range"
   ]
  },
  {
   "cell_type": "code",
   "execution_count": 18,
   "metadata": {},
   "outputs": [
    {
     "name": "stdout",
     "output_type": "stream",
     "text": [
      "995000.0\n"
     ]
    }
   ],
   "source": [
    "# Use max to get the largest and min to get the smallest then calculate the difference.\n",
    "print(max(salaries) - min(salaries))"
   ]
  },
  {
   "cell_type": "markdown",
   "metadata": {},
   "source": [
    "### coefficient of variation\n",
    "Make sure to use the sample standard deviation."
   ]
  },
  {
   "cell_type": "code",
   "execution_count": 19,
   "metadata": {},
   "outputs": [
    {
     "name": "stdout",
     "output_type": "stream",
     "text": [
      "45.38699889443903\n"
     ]
    }
   ],
   "source": [
    "print(standard_deviation / mean * 100)"
   ]
  },
  {
   "cell_type": "markdown",
   "metadata": {},
   "source": [
    "### interquartile range"
   ]
  },
  {
   "cell_type": "code",
   "execution_count": 33,
   "metadata": {},
   "outputs": [
    {
     "name": "stdout",
     "output_type": "stream",
     "text": [
      "413250.0\n"
     ]
    }
   ],
   "source": [
    "\n",
    "# Sort the list in ascending order\n",
    "salaries.sort()\n",
    "\n",
    "# Find the position of the first and third quartiles\n",
    "length = len(salaries)\n",
    "first_quartile_position = 0.25 * (length - 1)\n",
    "third_quartile_position = 0.75 * (length - 1)\n",
    "\n",
    "# Need to find the exact values at these percentiles....I wonder if numpy is allowed\n",
    "def interpolate(pos, sorted_list):\n",
    "    lower_index = int(pos)\n",
    "    upper_index = lower_index + 1\n",
    "    if upper_index >= len(sorted_list):\n",
    "        return sorted_list[lower_index]\n",
    "    lower_value = sorted_list[lower_index]\n",
    "    upper_value = sorted_list[upper_index]\n",
    "    return lower_value + (upper_value - lower_value) * (pos - lower_index)\n",
    "\n",
    "first_quartile = interpolate(first_quartile_position, salaries)\n",
    "third_quartile = interpolate(third_quartile_position, salaries)\n",
    "\n",
    "# Find the interquartile range by subtracting the first quartile from the third quartile\n",
    "interquartile_range = third_quartile - first_quartile\n",
    "\n",
    "print(interquartile_range)"
   ]
  },
  {
   "cell_type": "markdown",
   "metadata": {},
   "source": [
    "### quartile coefficent of dispersion"
   ]
  },
  {
   "cell_type": "code",
   "execution_count": 34,
   "metadata": {},
   "outputs": [
    {
     "name": "stdout",
     "output_type": "stream",
     "text": [
      "0.338660110633067\n"
     ]
    }
   ],
   "source": [
    "# Use the interquartile range divided by the sum of the first and third quartiles\n",
    "quartile_coefficient = interquartile_range / (first_quartile + third_quartile)\n",
    "print(quartile_coefficient)"
   ]
  },
  {
   "cell_type": "markdown",
   "metadata": {},
   "source": [
    "## Exercise 7: Scaling data\n",
    "### min-max scaling"
   ]
  },
  {
   "cell_type": "code",
   "execution_count": 35,
   "metadata": {},
   "outputs": [
    {
     "name": "stdout",
     "output_type": "stream",
     "text": [
      "[0.0, 0.01306532663316583, 0.07939698492462312, 0.0814070351758794, 0.08944723618090453, 0.10050251256281408, 0.10854271356783919, 0.18693467336683417, 0.18894472361809045, 0.19095477386934673, 0.23919597989949748, 0.2442211055276382, 0.25125628140703515, 0.2592964824120603, 0.26030150753768844, 0.27638190954773867, 0.28241206030150756, 0.2904522613065327, 0.3035175879396985, 0.31055276381909547, 0.32060301507537686, 0.3256281407035176, 0.385929648241206, 0.39195979899497485, 0.4, 0.40603015075376886, 0.4221105527638191, 0.43517587939698493, 0.4462311557788945, 0.4492462311557789, 0.45226130653266333, 0.4733668341708543, 0.47839195979899496, 0.47839195979899496, 0.47839195979899496, 0.48743718592964824, 0.49547738693467336, 0.5065326633165829, 0.5095477386934674, 0.5125628140703518, 0.5417085427135678, 0.542713567839196, 0.5487437185929648, 0.5507537688442211, 0.5527638190954773, 0.5698492462311557, 0.5778894472361809, 0.5819095477386935, 0.5849246231155779, 0.5899497487437186, 0.5919597989949749, 0.5979899497487438, 0.6050251256281407, 0.6130653266331658, 0.6150753768844222, 0.6150753768844222, 0.6201005025125628, 0.6592964824120603, 0.6623115577889447, 0.6703517587939698, 0.6864321608040201, 0.7075376884422111, 0.7095477386934673, 0.7226130653266332, 0.7326633165829146, 0.7587939698492462, 0.7608040201005025, 0.7608040201005025, 0.7869346733668342, 0.7959798994974875, 0.8060301507537688, 0.8080402010050252, 0.8130653266331658, 0.8150753768844221, 0.8170854271356784, 0.828140703517588, 0.8452261306532663, 0.8472361809045226, 0.8522613065326633, 0.8683417085427135, 0.871356783919598, 0.8733668341708543, 0.8804020100502512, 0.8984924623115578, 0.9015075376884422, 0.9025125628140703, 0.9055276381909547, 0.9115577889447236, 0.91356783919598, 0.9165829145728643, 0.9206030150753769, 0.9266331658291457, 0.9266331658291457, 0.9366834170854271, 0.9537688442211055, 0.9678391959798995, 0.9708542713567839, 0.9718592964824121, 0.9869346733668342, 1.0]\n"
     ]
    }
   ],
   "source": [
    "# Find the min and the max then loop through the list using the value minus the min value divided by the max value minus the min value to find the scaled value\n",
    "def min_max_scaling(data):\n",
    "    min_val = min(data)\n",
    "    max_val = max(data)\n",
    "    scaled_data = [(x - min_val) / (max_val - min_val) for x in data]\n",
    "    return scaled_data\n",
    "\n",
    "scaled_salaries = min_max_scaling(salaries)\n",
    "print(scaled_salaries)\n"
   ]
  },
  {
   "cell_type": "markdown",
   "metadata": {},
   "source": [
    "### standardizing"
   ]
  },
  {
   "cell_type": "code",
   "execution_count": 24,
   "metadata": {},
   "outputs": [
    {
     "name": "stdout",
     "output_type": "stream",
     "text": [
      "[-2.199512275430514, -2.150608309943509, -1.9023266390094862, -1.8948029520114855, -1.8647082040194827, -1.8233279255304788, -1.7932331775384762, -1.4998093846164489, -1.4922856976184482, -1.4847620106204475, -1.304193522668431, -1.285384305173429, -1.2590514006804265, -1.228956652688424, -1.2251948091894236, -1.165005313205418, -1.142434252211416, -1.112339504219413, -1.0634355387324086, -1.037102634239406, -0.9994841992494026, -0.9806749817544008, -0.7549643718143799, -0.7323933108203778, -0.7022985628283751, -0.6797275018343729, -0.6195380058503674, -0.5706340403633628, -0.529253761874359, -0.517968231377358, -0.5066827008803569, -0.4276839874013496, -0.40887476990634786, -0.40887476990634786, -0.40887476990634786, -0.37501817841534474, -0.34492343042334195, -0.3035431519343381, -0.2922576214373371, -0.28097209094033604, -0.17187862946932592, -0.16811678597032556, -0.14554572497632348, -0.1380220379783228, -0.1304983509803221, -0.06654701149731616, -0.03645226350531338, -0.02140488950931198, -0.010119359012310937, 0.008689858482690806, 0.016213545480691503, 0.038784606474693596, 0.06511751096769604, 0.09521225895969881, 0.10273594595769951, 0.10273594595769951, 0.12154516345270126, 0.26825705991371485, 0.2795425904107159, 0.3096373384027187, 0.36982683438672426, 0.4488255478657316, 0.4563492348637323, 0.5052532003507368, 0.5428716353407403, 0.6406795663147493, 0.6482032533127501, 0.6482032533127501, 0.7460111842867592, 0.7798677757777622, 0.8174862107677657, 0.8250098977657664, 0.8438191152607681, 0.8513428022587689, 0.8588664892567696, 0.9002467677457734, 0.9641981072287793, 0.9717217942267801, 0.9905310117217818, 1.0507205077057873, 1.0620060382027885, 1.0695297252007891, 1.0958626296937914, 1.1635758126757978, 1.1748613431727988, 1.178623186671799, 1.1899087171688003, 1.2124797781628023, 1.220003465160803, 1.2312889956578041, 1.2463363696538055, 1.2689074306478076, 1.2689074306478076, 1.3065258656378111, 1.370477205120817, 1.4231430141068218, 1.434428544603823, 1.4381903881028233, 1.4946180405878284, 1.543522006074833]\n"
     ]
    }
   ],
   "source": [
    "# Loop through the list using the formula z = (x-u)/s to find the standardized value\n",
    "standardized_salaries = [(x - mean) / standard_deviation for x in salaries]\n",
    "print(standardized_salaries)"
   ]
  },
  {
   "cell_type": "markdown",
   "metadata": {},
   "source": [
    "## Exercise 8: Calculating covariance and correlation\n",
    "### covariance"
   ]
  },
  {
   "cell_type": "code",
   "execution_count": 29,
   "metadata": {},
   "outputs": [
    {
     "data": {
      "text/plain": [
       "0.2671629284671759"
      ]
     },
     "execution_count": 29,
     "metadata": {},
     "output_type": "execute_result"
    }
   ],
   "source": [
    "# Use the statistics module to calculate the covariance\n",
    "statistics.covariance(standardized_salaries, scaled_salaries)   "
   ]
  },
  {
   "cell_type": "markdown",
   "metadata": {},
   "source": [
    "### Pearson correlation coefficient ($\\rho$)"
   ]
  },
  {
   "cell_type": "code",
   "execution_count": 28,
   "metadata": {},
   "outputs": [
    {
     "data": {
      "text/plain": [
       "1.0"
      ]
     },
     "execution_count": 28,
     "metadata": {},
     "output_type": "execute_result"
    }
   ],
   "source": [
    "# Use the statistics module to calculate the correlation\n",
    "statistics.correlation(standardized_salaries, scaled_salaries )"
   ]
  },
  {
   "cell_type": "markdown",
   "metadata": {},
   "source": [
    "<hr>\n",
    "<div style=\"overflow: hidden; margin-bottom: 10px;\">\n",
    "    <div style=\"float: left;\">\n",
    "        <a href=\"./python_101.ipynb\">\n",
    "            <button>Python 101</button>\n",
    "        </a>\n",
    "    </div>\n",
    "    <div style=\"float: right;\">\n",
    "        <a href=\"../../solutions/ch_01/solutions.ipynb\">\n",
    "            <button>Solutions</button>\n",
    "        </a>\n",
    "        <a href=\"../ch_02/1-pandas_data_structures.ipynb\">\n",
    "            <button>Chapter 2 &#8594;</button>\n",
    "        </a>\n",
    "    </div>\n",
    "</div>\n",
    "<hr>"
   ]
  }
 ],
 "metadata": {
  "kernelspec": {
   "display_name": "Python 3",
   "language": "python",
   "name": "python3"
  },
  "language_info": {
   "codemirror_mode": {
    "name": "ipython",
    "version": 3
   },
   "file_extension": ".py",
   "mimetype": "text/x-python",
   "name": "python",
   "nbconvert_exporter": "python",
   "pygments_lexer": "ipython3",
   "version": "3.10.11"
  }
 },
 "nbformat": 4,
 "nbformat_minor": 4
}

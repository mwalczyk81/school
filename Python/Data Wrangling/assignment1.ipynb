{
 "cells": [
  {
   "cell_type": "code",
   "execution_count": 28,
   "metadata": {},
   "outputs": [
    {
     "name": "stdout",
     "output_type": "stream",
     "text": [
      "Hello World! I wonder why that is always the default coding text to start with\n",
      "5\n",
      "5\n",
      "27\n",
      "1.0\n",
      "Hello there\n",
      "<class 'list'>\n",
      "['apple', 'banana', 'cherry', 'strawberry']\n",
      "['apple', 'banana', 'cherry', 'strawberry', 'orange']\n",
      "<class 'tuple'>\n",
      "('carrot', 'broccoli', 'spinach', 'kale')\n"
     ]
    }
   ],
   "source": [
    "\"\"\"\n",
    "============================================\n",
    "Title: Assignment 1\n",
    "Author: Matthew Walczyk\n",
    "Date: 8/26/2024\n",
    "Modified By: Matthew Walczyk\n",
    "Description: This program is my refresher on Python showing arithmetic, strings, lists, and tuples using the random library from Python\n",
    "===========================================\n",
    "\"\"\"\n",
    "\n",
    "import random\n",
    "\n",
    "print(\"Hello World! I wonder why that is always the default coding text to start with\")\n",
    "\n",
    "# Using random numbers for the arithmetic to spice it up a little\n",
    "print(random.randint(1,10) + random.randint(1,10))\n",
    "print(random.randint(1,10) - random.randint(1,10))\n",
    "print(random.randint(1,10) * random.randint(1,10))\n",
    "print(random.randint(1,10) / random.randint(1,10))\n",
    "\n",
    "print(\"Hello\" + \" \" + \"there\")\n",
    "\n",
    "fruits = [\"apple\", \"banana\", \"cherry\", \"strawberry\"]\n",
    "\n",
    "print(type(fruits))\n",
    "print(fruits)\n",
    "\n",
    "fruits.append(\"orange\")\n",
    "\n",
    "print(fruits)\n",
    "\n",
    "veggies = (\"carrot\", \"broccoli\", \"spinach\", \"kale\")\n",
    "\n",
    "print(type(veggies))\n",
    "print(veggies)"
   ]
  }
 ],
 "metadata": {
  "kernelspec": {
   "display_name": "Python 3",
   "language": "python",
   "name": "python3"
  },
  "language_info": {
   "codemirror_mode": {
    "name": "ipython",
    "version": 3
   },
   "file_extension": ".py",
   "mimetype": "text/x-python",
   "name": "python",
   "nbconvert_exporter": "python",
   "pygments_lexer": "ipython3",
   "version": "3.10.11"
  }
 },
 "nbformat": 4,
 "nbformat_minor": 2
}

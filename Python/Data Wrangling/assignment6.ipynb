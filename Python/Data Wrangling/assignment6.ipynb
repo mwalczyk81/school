{
 "cells": [
  {
   "cell_type": "markdown",
   "metadata": {},
   "source": [
    "<div align=\"center\">\n",
    "\n",
    "# Assignment 6\n",
    "\n",
    "---\n",
    "\n",
    "**Author:** Matthew Walczyk  \n",
    "**Date:** 9/30/2024  \n",
    "**Modified By:** Matthew Walczyk  \n",
    "**Description:** This program contains my week 6 exercises using pandas.\n",
    "\n",
    "---\n",
    "</div>"
   ]
  },
  {
   "cell_type": "code",
   "execution_count": 5,
   "metadata": {},
   "outputs": [
    {
     "name": "stdout",
     "output_type": "stream",
     "text": [
      "     mag magType           time                               place  tsunami  \\\n",
      "227  5.2      mb  1539389603790             15km WSW of Pisco, Peru        0   \n",
      "229  4.9      mb  1539389546300        193km N of Qulansiyah, Yemen        0   \n",
      "248  4.9      mb  1539382925190  151km S of Severo-Kuril'sk, Russia        0   \n",
      "258  5.1      mb  1539380306940       236km NNW of Kuril'sk, Russia        0   \n",
      "391  5.1      mb  1539337221080             Pacific-Antarctic Ridge        0   \n",
      "\n",
      "                parsed_place  \n",
      "227                     Peru  \n",
      "229                    Yemen  \n",
      "248                   Russia  \n",
      "258                   Russia  \n",
      "391  Pacific-Antarctic Ridge  \n"
     ]
    }
   ],
   "source": [
    "import pandas as pd\n",
    "\n",
    "earthquakes = pd.read_csv('https://raw.githubusercontent.com/stefmolin/Hands-On-Data-Analysis-with-Pandas-2nd-edition/refs/heads/master/ch_04/exercises/earthquakes.csv')\n",
    "\n",
    "filtered_quakes = earthquakes[(earthquakes['magType'] == 'mb') & (earthquakes['mag'] >= 4.9)]\n",
    "\n",
    "print(filtered_quakes.head())"
   ]
  },
  {
   "cell_type": "code",
   "execution_count": 11,
   "metadata": {},
   "outputs": [
    {
     "name": "stdout",
     "output_type": "stream",
     "text": [
      "magnitude_bin\n",
      "[-1, 0)     446\n",
      "[0, 1)     2072\n",
      "[1, 2)     3126\n",
      "[2, 3)      985\n",
      "[3, 4)      153\n",
      "[4, 5)        6\n",
      "[5, 6)        2\n",
      "Name: count, dtype: int64\n"
     ]
    }
   ],
   "source": [
    "# I made a copy because I was getting a warning about setting a value on a copy of a slice from a DataFrame\n",
    "ml_quakes = earthquakes[earthquakes['magType'] == 'ml'].copy()\n",
    "\n",
    "bins = range(int(ml_quakes['mag'].min()), int(ml_quakes['mag'].max()) + 2)  # Think this needs to be +2 to include the max value\n",
    "\n",
    "ml_quakes.loc[:, 'magnitude_bin'] = pd.cut(ml_quakes['mag'], bins=bins, right=False)\n",
    "\n",
    "magnitude_counts = ml_quakes['magnitude_bin'].value_counts().sort_index()\n",
    "\n",
    "print(magnitude_counts)"
   ]
  }
 ],
 "metadata": {
  "kernelspec": {
   "display_name": "Python 3",
   "language": "python",
   "name": "python3"
  },
  "language_info": {
   "codemirror_mode": {
    "name": "ipython",
    "version": 3
   },
   "file_extension": ".py",
   "mimetype": "text/x-python",
   "name": "python",
   "nbconvert_exporter": "python",
   "pygments_lexer": "ipython3",
   "version": "3.10.11"
  }
 },
 "nbformat": 4,
 "nbformat_minor": 2
}
